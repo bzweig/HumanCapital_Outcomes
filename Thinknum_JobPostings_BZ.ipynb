{
 "cells": [
  {
   "cell_type": "code",
   "execution_count": 1,
   "metadata": {},
   "outputs": [],
   "source": [
    "import pandas as pd\n",
    "import numpy as np\n",
    "import statsmodels.formula.api as smf\n",
    "%matplotlib inline\n",
    "import matplotlib.pyplot as plt"
   ]
  },
  {
   "cell_type": "code",
   "execution_count": 2,
   "metadata": {},
   "outputs": [],
   "source": [
    "#reading in quarterly data, merged with financials\n",
    "df = pd.read_csv('thinknum_w_financial_data.csv',low_memory=False)"
   ]
  },
  {
   "cell_type": "code",
   "execution_count": 3,
   "metadata": {},
   "outputs": [
    {
     "data": {
      "text/html": [
       "<div>\n",
       "<style scoped>\n",
       "    .dataframe tbody tr th:only-of-type {\n",
       "        vertical-align: middle;\n",
       "    }\n",
       "\n",
       "    .dataframe tbody tr th {\n",
       "        vertical-align: top;\n",
       "    }\n",
       "\n",
       "    .dataframe thead th {\n",
       "        text-align: right;\n",
       "    }\n",
       "</style>\n",
       "<table border=\"1\" class=\"dataframe\">\n",
       "  <thead>\n",
       "    <tr style=\"text-align: right;\">\n",
       "      <th></th>\n",
       "      <th>Unnamed: 0</th>\n",
       "      <th>year</th>\n",
       "      <th>q</th>\n",
       "      <th>ticker</th>\n",
       "      <th>titles</th>\n",
       "      <th>counts</th>\n",
       "      <th>exchange</th>\n",
       "      <th>tic</th>\n",
       "      <th>gvkey</th>\n",
       "      <th>datadate</th>\n",
       "      <th>...</th>\n",
       "      <th>datafqtr</th>\n",
       "      <th>niq</th>\n",
       "      <th>nopiq</th>\n",
       "      <th>revtq</th>\n",
       "      <th>spce12</th>\n",
       "      <th>xoprq</th>\n",
       "      <th>nimy</th>\n",
       "      <th>exchg</th>\n",
       "      <th>costat</th>\n",
       "      <th>mkvaltq</th>\n",
       "    </tr>\n",
       "  </thead>\n",
       "  <tbody>\n",
       "    <tr>\n",
       "      <th>0</th>\n",
       "      <td>0</td>\n",
       "      <td>2018</td>\n",
       "      <td>3</td>\n",
       "      <td>nasdaq:adap</td>\n",
       "      <td>Quality Assurance Specialist</td>\n",
       "      <td>1</td>\n",
       "      <td>nasdaq</td>\n",
       "      <td>adap</td>\n",
       "      <td>23574</td>\n",
       "      <td>20180930</td>\n",
       "      <td>...</td>\n",
       "      <td>2018Q3</td>\n",
       "      <td>5.242</td>\n",
       "      <td>-1.643</td>\n",
       "      <td>40.792</td>\n",
       "      <td>NaN</td>\n",
       "      <td>31.865</td>\n",
       "      <td>NaN</td>\n",
       "      <td>14.0</td>\n",
       "      <td>A</td>\n",
       "      <td>NaN</td>\n",
       "    </tr>\n",
       "    <tr>\n",
       "      <th>1</th>\n",
       "      <td>1</td>\n",
       "      <td>2018</td>\n",
       "      <td>3</td>\n",
       "      <td>nasdaq:adap</td>\n",
       "      <td>Paralegal</td>\n",
       "      <td>1</td>\n",
       "      <td>nasdaq</td>\n",
       "      <td>adap</td>\n",
       "      <td>23574</td>\n",
       "      <td>20180930</td>\n",
       "      <td>...</td>\n",
       "      <td>2018Q3</td>\n",
       "      <td>5.242</td>\n",
       "      <td>-1.643</td>\n",
       "      <td>40.792</td>\n",
       "      <td>NaN</td>\n",
       "      <td>31.865</td>\n",
       "      <td>NaN</td>\n",
       "      <td>14.0</td>\n",
       "      <td>A</td>\n",
       "      <td>NaN</td>\n",
       "    </tr>\n",
       "    <tr>\n",
       "      <th>2</th>\n",
       "      <td>2</td>\n",
       "      <td>2018</td>\n",
       "      <td>3</td>\n",
       "      <td>nasdaq:adap</td>\n",
       "      <td>Associate Scientist , Manufacturing Sciences a...</td>\n",
       "      <td>1</td>\n",
       "      <td>nasdaq</td>\n",
       "      <td>adap</td>\n",
       "      <td>23574</td>\n",
       "      <td>20180930</td>\n",
       "      <td>...</td>\n",
       "      <td>2018Q3</td>\n",
       "      <td>5.242</td>\n",
       "      <td>-1.643</td>\n",
       "      <td>40.792</td>\n",
       "      <td>NaN</td>\n",
       "      <td>31.865</td>\n",
       "      <td>NaN</td>\n",
       "      <td>14.0</td>\n",
       "      <td>A</td>\n",
       "      <td>NaN</td>\n",
       "    </tr>\n",
       "    <tr>\n",
       "      <th>3</th>\n",
       "      <td>3</td>\n",
       "      <td>2018</td>\n",
       "      <td>3</td>\n",
       "      <td>nasdaq:adap</td>\n",
       "      <td>Director, Clinical Scientist</td>\n",
       "      <td>1</td>\n",
       "      <td>nasdaq</td>\n",
       "      <td>adap</td>\n",
       "      <td>23574</td>\n",
       "      <td>20180930</td>\n",
       "      <td>...</td>\n",
       "      <td>2018Q3</td>\n",
       "      <td>5.242</td>\n",
       "      <td>-1.643</td>\n",
       "      <td>40.792</td>\n",
       "      <td>NaN</td>\n",
       "      <td>31.865</td>\n",
       "      <td>NaN</td>\n",
       "      <td>14.0</td>\n",
       "      <td>A</td>\n",
       "      <td>NaN</td>\n",
       "    </tr>\n",
       "    <tr>\n",
       "      <th>4</th>\n",
       "      <td>4</td>\n",
       "      <td>2018</td>\n",
       "      <td>3</td>\n",
       "      <td>nasdaq:adap</td>\n",
       "      <td>Associate Director, IT Compliance</td>\n",
       "      <td>1</td>\n",
       "      <td>nasdaq</td>\n",
       "      <td>adap</td>\n",
       "      <td>23574</td>\n",
       "      <td>20180930</td>\n",
       "      <td>...</td>\n",
       "      <td>2018Q3</td>\n",
       "      <td>5.242</td>\n",
       "      <td>-1.643</td>\n",
       "      <td>40.792</td>\n",
       "      <td>NaN</td>\n",
       "      <td>31.865</td>\n",
       "      <td>NaN</td>\n",
       "      <td>14.0</td>\n",
       "      <td>A</td>\n",
       "      <td>NaN</td>\n",
       "    </tr>\n",
       "  </tbody>\n",
       "</table>\n",
       "<p>5 rows × 30 columns</p>\n",
       "</div>"
      ],
      "text/plain": [
       "   Unnamed: 0  year  q       ticker  \\\n",
       "0           0  2018  3  nasdaq:adap   \n",
       "1           1  2018  3  nasdaq:adap   \n",
       "2           2  2018  3  nasdaq:adap   \n",
       "3           3  2018  3  nasdaq:adap   \n",
       "4           4  2018  3  nasdaq:adap   \n",
       "\n",
       "                                              titles  counts exchange   tic  \\\n",
       "0                       Quality Assurance Specialist       1   nasdaq  adap   \n",
       "1                                          Paralegal       1   nasdaq  adap   \n",
       "2  Associate Scientist , Manufacturing Sciences a...       1   nasdaq  adap   \n",
       "3                       Director, Clinical Scientist       1   nasdaq  adap   \n",
       "4                  Associate Director, IT Compliance       1   nasdaq  adap   \n",
       "\n",
       "   gvkey  datadate  ...  datafqtr    niq  nopiq   revtq spce12   xoprq nimy  \\\n",
       "0  23574  20180930  ...    2018Q3  5.242 -1.643  40.792    NaN  31.865  NaN   \n",
       "1  23574  20180930  ...    2018Q3  5.242 -1.643  40.792    NaN  31.865  NaN   \n",
       "2  23574  20180930  ...    2018Q3  5.242 -1.643  40.792    NaN  31.865  NaN   \n",
       "3  23574  20180930  ...    2018Q3  5.242 -1.643  40.792    NaN  31.865  NaN   \n",
       "4  23574  20180930  ...    2018Q3  5.242 -1.643  40.792    NaN  31.865  NaN   \n",
       "\n",
       "  exchg costat mkvaltq  \n",
       "0  14.0      A     NaN  \n",
       "1  14.0      A     NaN  \n",
       "2  14.0      A     NaN  \n",
       "3  14.0      A     NaN  \n",
       "4  14.0      A     NaN  \n",
       "\n",
       "[5 rows x 30 columns]"
      ]
     },
     "execution_count": 3,
     "metadata": {},
     "output_type": "execute_result"
    }
   ],
   "source": [
    "df.loc[df['xoprq']<0,'xoprq'] = 0 #removing negative values of operational expense\n",
    "df.head()"
   ]
  },
  {
   "cell_type": "code",
   "execution_count": 4,
   "metadata": {
    "scrolled": true
   },
   "outputs": [
    {
     "name": "stdout",
     "output_type": "stream",
     "text": [
      "1957\n"
     ]
    },
    {
     "data": {
      "text/html": [
       "<div>\n",
       "<style scoped>\n",
       "    .dataframe tbody tr th:only-of-type {\n",
       "        vertical-align: middle;\n",
       "    }\n",
       "\n",
       "    .dataframe tbody tr th {\n",
       "        vertical-align: top;\n",
       "    }\n",
       "\n",
       "    .dataframe thead th {\n",
       "        text-align: right;\n",
       "    }\n",
       "</style>\n",
       "<table border=\"1\" class=\"dataframe\">\n",
       "  <thead>\n",
       "    <tr style=\"text-align: right;\">\n",
       "      <th></th>\n",
       "      <th>year</th>\n",
       "      <th>q</th>\n",
       "    </tr>\n",
       "  </thead>\n",
       "  <tbody>\n",
       "    <tr>\n",
       "      <th>6</th>\n",
       "      <td>2016</td>\n",
       "      <td>1</td>\n",
       "    </tr>\n",
       "    <tr>\n",
       "      <th>7</th>\n",
       "      <td>2016</td>\n",
       "      <td>2</td>\n",
       "    </tr>\n",
       "    <tr>\n",
       "      <th>8</th>\n",
       "      <td>2016</td>\n",
       "      <td>3</td>\n",
       "    </tr>\n",
       "    <tr>\n",
       "      <th>9</th>\n",
       "      <td>2016</td>\n",
       "      <td>4</td>\n",
       "    </tr>\n",
       "    <tr>\n",
       "      <th>10</th>\n",
       "      <td>2017</td>\n",
       "      <td>1</td>\n",
       "    </tr>\n",
       "    <tr>\n",
       "      <th>0</th>\n",
       "      <td>2017</td>\n",
       "      <td>2</td>\n",
       "    </tr>\n",
       "    <tr>\n",
       "      <th>1</th>\n",
       "      <td>2017</td>\n",
       "      <td>3</td>\n",
       "    </tr>\n",
       "    <tr>\n",
       "      <th>2</th>\n",
       "      <td>2017</td>\n",
       "      <td>4</td>\n",
       "    </tr>\n",
       "    <tr>\n",
       "      <th>3</th>\n",
       "      <td>2018</td>\n",
       "      <td>1</td>\n",
       "    </tr>\n",
       "    <tr>\n",
       "      <th>4</th>\n",
       "      <td>2018</td>\n",
       "      <td>2</td>\n",
       "    </tr>\n",
       "    <tr>\n",
       "      <th>5</th>\n",
       "      <td>2018</td>\n",
       "      <td>3</td>\n",
       "    </tr>\n",
       "  </tbody>\n",
       "</table>\n",
       "</div>"
      ],
      "text/plain": [
       "    year  q\n",
       "6   2016  1\n",
       "7   2016  2\n",
       "8   2016  3\n",
       "9   2016  4\n",
       "10  2017  1\n",
       "0   2017  2\n",
       "1   2017  3\n",
       "2   2017  4\n",
       "3   2018  1\n",
       "4   2018  2\n",
       "5   2018  3"
      ]
     },
     "execution_count": 4,
     "metadata": {},
     "output_type": "execute_result"
    }
   ],
   "source": [
    "# df2 aggregates job posting volume, revenue, operational expense, and market value\n",
    "# at the quarterly level for each company\n",
    "df2 = df.groupby(['conm','year','q'],as_index=False).agg({'counts':sum,\n",
    "    'revtq':np.mean,'xoprq':np.mean,'mkvaltq':np.mean})\n",
    "df2 = df2.loc[df2.duplicated(['conm'],keep=False),:]\n",
    "print(df2['conm'].nunique()) #1957 unique companies\n",
    "df2[['year','q']].drop_duplicates().sort_values(['year','q']) #quarterly from Q1_2016 - Q3_2018"
   ]
  },
  {
   "cell_type": "code",
   "execution_count": 5,
   "metadata": {},
   "outputs": [
    {
     "name": "stdout",
     "output_type": "stream",
     "text": [
      "ln_counts_d ln_xoprq_d 0.03080106638778239 15.73238963236958\n",
      "ln_counts_d ln_revtq_d 0.030605665533615874 10.1359936871931\n",
      "ln_counts_d ln_mkvaltq_d 0.046481353427346606 15.803619502895762\n"
     ]
    }
   ],
   "source": [
    "# creating derivatives from each of the fours variables\n",
    "for i in ['counts','revtq', 'xoprq', 'mkvaltq']:\n",
    "    # leading values for 4 quarter in the future\n",
    "    df2[i+'_f1'] = df2.groupby('conm')[i].shift(-1)\n",
    "    for j in range(2,5):\n",
    "        df2[i+'_f'+str(j)] = df2.groupby('conm')[i].shift(-1*j)\n",
    "    # natural logs of each variable\n",
    "    df2['ln_'+i] = np.log(1+df2[i])\n",
    "    # growth rates for 4 quarter in the future\n",
    "    df2[i+'_g1'] = np.log(1+df2[i+'_f1'])-np.log(1+df2[i])\n",
    "    for j in range(2,5):\n",
    "        df2[i+'_g'+str(j)] = np.log(1+df2[i+'_f'+str(j)])-np.log(1+df2[i+'_f'+str(j-1)])\n",
    "    # mean differences of the natural log by company\n",
    "    df2['ln_'+i+'_d'] = df2['ln_'+i] - df2.groupby(['conm'])['ln_'+i].transform(np.mean)\n",
    "\n",
    "l_df2 = [] # a list to store parameters\n",
    "err_df2 = [] # a list to store standard errors\n",
    "for j in ['ln_counts_d']:\n",
    "    for i in ['ln_xoprq_d','ln_revtq_d','ln_mkvaltq_d']:\n",
    "        l_df2.append(smf.ols(i+'~'+j,data=df2).fit().params[j])\n",
    "        err_df2.append(smf.ols(i+'~'+j,data=df2).fit().HC0_se[j])\n",
    "        # parameters and t-statisics from each regression\n",
    "        print(j,i,smf.ols(i+'~'+j,data=df2).fit().params[j],smf.ols(i+'~'+j,data=df2).fit().tvalues[j])\n",
    "\n",
    "# creating a new data dataframe to generate plots from\n",
    "plot1 = pd.DataFrame({'coef':l_df2},\n",
    "              index=['Expense','Revenue','Mkt Cap'])"
   ]
  },
  {
   "cell_type": "code",
   "execution_count": 6,
   "metadata": {
    "scrolled": false
   },
   "outputs": [
    {
     "data": {
      "text/plain": [
       "[Text(0,0,'0%'),\n",
       " Text(0,0,'1%'),\n",
       " Text(0,0,'2%'),\n",
       " Text(0,0,'3%'),\n",
       " Text(0,0,'4%'),\n",
       " Text(0,0,'5%'),\n",
       " Text(0,0,'6%')]"
      ]
     },
     "execution_count": 6,
     "metadata": {},
     "output_type": "execute_result"
    },
    {
     "data": {
      "image/png": "[encoded data removed]",
      "text/plain": [
       "<Figure size 921.6x633.6 with 1 Axes>"
      ]
     },
     "metadata": {},
     "output_type": "display_data"
    }
   ],
   "source": [
    "plt.style.use('seaborn-poster')\n",
    "fig, ax = plt.subplots()\n",
    "plot1.plot.bar(ax=ax,yerr=[err_df2])\n",
    "ax.set_title('Job Posting Volume: Relationships with Expense, Revenue, & Market Cap')\n",
    "ax.set_ylabel('Elasticity')\n",
    "ax.legend([]) \n",
    "\n",
    "vals = ax.get_yticks()\n",
    "ax.set_yticklabels(['{:,.0%}'.format(x) for x in vals])"
   ]
  },
  {
   "cell_type": "code",
   "execution_count": 7,
   "metadata": {},
   "outputs": [
    {
     "name": "stdout",
     "output_type": "stream",
     "text": [
      "counts_g1 xoprq_g2 0.008713341712624703 3.390164671629369\n",
      "counts_g1 xoprq_g3 0.00014488703947110695 0.04712512678543947\n",
      "counts_g1 xoprq_g4 0.004942393533959517 1.3132245513218206\n",
      "counts_g1 revtq_g2 0.007713722704566223 2.1658904287407705\n",
      "counts_g1 revtq_g3 -0.0034812277735839035 -0.858552544944565\n",
      "counts_g1 revtq_g4 0.008432739984190373 1.7644804143071025\n"
     ]
    }
   ],
   "source": [
    "l_growth = [] # list to store parameters\n",
    "l_err = [] # list to store standard errors\n",
    "for j in ['counts_g1']:\n",
    "    for i in ['xoprq_g2','xoprq_g3','xoprq_g4',\n",
    "              'revtq_g2','revtq_g3','revtq_g4']:\n",
    "        l_growth.append(smf.ols(i+'~'+j,data=df2).fit().params[j])\n",
    "        l_err.append(smf.ols(i+'~'+j,data=df2).fit().HC0_se[j])\n",
    "        print(j,i,smf.ols(i+'~'+j,data=df2).fit().params[j],smf.ols(i+'~'+j,data=df2).fit().tvalues[j])\n",
    "\n",
    "plot2 = pd.DataFrame({'effect':l_growth,\n",
    "              'type':['expense','expense','expense','revenue','revenue','revenue'],\n",
    "              'lead':[1,2,3,1,2,3]}).pivot_table(\n",
    "    index='lead',columns='type')"
   ]
  },
  {
   "cell_type": "code",
   "execution_count": 8,
   "metadata": {},
   "outputs": [
    {
     "data": {
      "text/plain": [
       "[Text(0,0,'-1.0%'),\n",
       " Text(0,0,'-0.5%'),\n",
       " Text(0,0,'0.0%'),\n",
       " Text(0,0,'0.5%'),\n",
       " Text(0,0,'1.0%'),\n",
       " Text(0,0,'1.5%')]"
      ]
     },
     "execution_count": 8,
     "metadata": {},
     "output_type": "execute_result"
    },
    {
     "data": {
      "image/png": "[encoded data removed]",
      "text/plain": [
       "<Figure size 921.6x633.6 with 1 Axes>"
      ]
     },
     "metadata": {},
     "output_type": "display_data"
    }
   ],
   "source": [
    "fig, ax = plt.subplots()\n",
    "plot2.plot.bar(ax=ax,yerr=[l_err[:3],l_err[3:]])\n",
    "ax.set_title('Job Posting Growth: Relationships with Expense & Revenue')\n",
    "ax.set_ylabel('Elasticity')\n",
    "ax.set_xlabel('Quarters Ahead')\n",
    "ax.legend([]) \n",
    "\n",
    "vals = ax.get_yticks()\n",
    "ax.set_yticklabels(['{:,.1%}'.format(x) for x in vals])"
   ]
  },
  {
   "cell_type": "code",
   "execution_count": 9,
   "metadata": {},
   "outputs": [],
   "source": [
    "# text cleaning to filter jobs based on title\n",
    "df['titles'] = df['titles'].str.lower()\n",
    "df['titles'].fillna('missing',inplace=True)\n",
    "\n",
    "#seniority\n",
    "\n",
    "df['senior'] = 0\n",
    "senior_words = ['senior','manag','cheif','chief','ceo','cto','vp','vice','direct','princi','executive','mgr','head']\n",
    "non = ['assistant','asst','service','office','branch','quality']\n",
    "for i in senior_words:\n",
    "    df.loc[df['titles'].str.contains(i),'senior'] = 1\n",
    "for i in non:\n",
    "    df.loc[df['titles'].str.contains(i),'senior'] = 0\n",
    "\n",
    "#product\n",
    "\n",
    "df['product_engineering'] = 0\n",
    "prod = ['engine','product','data scie','developer','tech','supervi','design','creat','design','program','sde','web']\n",
    "non = ['sales','recruit']\n",
    "for i in prod:\n",
    "    df.loc[df['titles'].str.contains(i),'product_engineering'] = 1\n",
    "for i in non:\n",
    "    df.loc[df['titles'].str.contains(i),'product_engineering'] = 0\n",
    "    \n",
    "#sales    \n",
    "    \n",
    "df['sales'] = 0\n",
    "sales = ['sales','customer','represen','agent','account','marketin','event','social',\n",
    "        'brand','ambass','relations','business dev','relationship']\n",
    "non = ['accounting','accountant']\n",
    "for i in sales:\n",
    "    df.loc[df['titles'].str.contains(i),'sales'] = 1\n",
    "for i in non:\n",
    "    df.loc[df['titles'].str.contains(i),'sales'] = 0"
   ]
  },
  {
   "cell_type": "code",
   "execution_count": 10,
   "metadata": {},
   "outputs": [
    {
     "name": "stdout",
     "output_type": "stream",
     "text": [
      "ln_counts_d ln_xoprq_d 0.04175132449534184 18.330879050168246\n",
      "ln_counts_d ln_revtq_d 0.04512075017954845 12.785874654262615\n",
      "ln_counts_d ln_mkvaltq_d 0.057510838910787565 16.702024967634543\n",
      "ln_counts_d ln_xoprq_d 0.03195916728962225 16.03429986289617\n",
      "ln_counts_d ln_revtq_d 0.03339451553751843 10.990860611310042\n",
      "ln_counts_d ln_mkvaltq_d 0.04725080559308964 15.76956979942645\n"
     ]
    }
   ],
   "source": [
    "#replicating analyses for subsets of the dataframe based on seniority\n",
    "l_sen = []\n",
    "err_sen = []\n",
    "\n",
    "df_senior = df.loc[df['senior']==1,:].groupby(['conm','year','q'],as_index=False).agg({'counts':sum,\n",
    "    'revtq':np.mean,\n",
    "        'xoprq':np.mean,'mkvaltq':np.mean})\n",
    "df_senior = df_senior.loc[df_senior.duplicated(['conm'],keep=False),:]\n",
    "for i in ['counts','revtq', 'xoprq', 'mkvaltq']:\n",
    "    df_senior[i+'_f1'] = df_senior.groupby('conm')[i].shift(-1)\n",
    "    for j in range(2,5):\n",
    "        df_senior[i+'_f'+str(j)] = df_senior.groupby('conm')[i].shift(-1*j)\n",
    "    df_senior['ln_'+i] = np.log(1+df_senior[i])\n",
    "    df_senior[i+'_g1'] = np.log(1+df_senior[i+'_f1'])-np.log(1+df_senior[i])\n",
    "    for j in range(2,5):\n",
    "        df_senior[i+'_g'+str(j)] = np.log(1+df_senior[i+'_f'+str(j)])-np.log(1+df_senior[i+'_f'+str(j-1)])\n",
    "    df_senior['ln_'+i+'_d'] = df_senior['ln_'+i] - df_senior.groupby(['conm'])['ln_'+i].transform(np.mean)\n",
    "for j in ['ln_counts_d']:\n",
    "    for i in ['ln_xoprq_d','ln_revtq_d','ln_mkvaltq_d']:\n",
    "        l_sen.append(smf.ols(i+'~'+j,data=df_senior).fit().params[j])\n",
    "        err_sen.append(smf.ols(i+'~'+j,data=df_senior).fit().HC0_se[j])\n",
    "        print(j,i,smf.ols(i+'~'+j,data=df_senior).fit().params[j],smf.ols(i+'~'+j,data=df_senior).fit().tvalues[j])\n",
    "\n",
    "l_jun = []\n",
    "err_jun = []\n",
    "\n",
    "df_junior = df.loc[df['senior']==0,:].groupby(['conm','year','q'],as_index=False).agg({'counts':sum,\n",
    "    'revtq':np.mean,\n",
    "        'xoprq':np.mean,'mkvaltq':np.mean})\n",
    "df_junior = df_junior.loc[df_junior.duplicated(['conm'],keep=False),:]\n",
    "for i in ['counts','revtq', 'xoprq', 'mkvaltq']:\n",
    "    df_junior[i+'_f1'] = df_junior.groupby('conm')[i].shift(-1)\n",
    "    for j in range(2,5):\n",
    "        df_junior[i+'_f'+str(j)] = df_junior.groupby('conm')[i].shift(-1*j)\n",
    "    df_junior['ln_'+i] = np.log(1+df_junior[i])\n",
    "    df_junior[i+'_g1'] = np.log(1+df_junior[i+'_f1'])-np.log(1+df_junior[i])\n",
    "    for j in range(2,5):\n",
    "        df_junior[i+'_g'+str(j)] = np.log(1+df_junior[i+'_f'+str(j)])-np.log(1+df_junior[i+'_f'+str(j-1)])\n",
    "    df_junior['ln_'+i+'_d'] = df_junior['ln_'+i] - df_junior.groupby(['conm'])['ln_'+i].transform(np.mean)\n",
    "for j in ['ln_counts_d']:\n",
    "    for i in ['ln_xoprq_d','ln_revtq_d','ln_mkvaltq_d']:\n",
    "        l_jun.append(smf.ols(i+'~'+j,data=df_junior).fit().params[j])\n",
    "        err_jun.append(smf.ols(i+'~'+j,data=df_junior).fit().HC0_se[j])\n",
    "        print(j,i,smf.ols(i+'~'+j,data=df_junior).fit().params[j],smf.ols(i+'~'+j,data=df_junior).fit().tvalues[j])\n",
    "\n",
    "\n",
    "plot3 = pd.DataFrame({'senior':l_sen,\n",
    "              'junior':l_jun},\n",
    "              index=['Expense','Revenue','Mkt Cap'])"
   ]
  },
  {
   "cell_type": "code",
   "execution_count": 11,
   "metadata": {},
   "outputs": [
    {
     "data": {
      "text/plain": [
       "[Text(0,0,'0%'),\n",
       " Text(0,0,'1%'),\n",
       " Text(0,0,'2%'),\n",
       " Text(0,0,'3%'),\n",
       " Text(0,0,'4%'),\n",
       " Text(0,0,'5%'),\n",
       " Text(0,0,'6%'),\n",
       " Text(0,0,'7%')]"
      ]
     },
     "execution_count": 11,
     "metadata": {},
     "output_type": "execute_result"
    },
    {
     "data": {
      "image/png": "[encoded data removed]",
      "text/plain": [
       "<Figure size 921.6x633.6 with 1 Axes>"
      ]
     },
     "metadata": {},
     "output_type": "display_data"
    }
   ],
   "source": [
    "fig, ax = plt.subplots()\n",
    "plot3.plot.bar(ax=ax,yerr=[err_sen,err_jun])\n",
    "ax.set_title('Job Posting Volume: Relationships by Seniority')\n",
    "ax.set_ylabel('Elasticity')\n",
    "ax.legend(['Senior','Junior']) \n",
    "\n",
    "vals = ax.get_yticks()\n",
    "ax.set_yticklabels(['{:,.0%}'.format(x) for x in vals])"
   ]
  },
  {
   "cell_type": "code",
   "execution_count": 12,
   "metadata": {},
   "outputs": [
    {
     "name": "stdout",
     "output_type": "stream",
     "text": [
      "ln_counts_d ln_xoprq_d 0.03928618055623712 17.239734979304842\n",
      "ln_counts_d ln_revtq_d 0.04340140089722507 13.50624944335747\n",
      "ln_counts_d ln_mkvaltq_d 0.051802355941298464 15.045367614318483\n",
      "ln_counts_d ln_xoprq_d 0.035851364825652154 15.43507600852653\n",
      "ln_counts_d ln_revtq_d 0.03424268630959917 10.382187496084057\n",
      "ln_counts_d ln_mkvaltq_d 0.04396088410130869 12.601481674485747\n",
      "ln_counts_d ln_xoprq_d 0.03229003967200227 15.509108016259265\n",
      "ln_counts_d ln_revtq_d 0.03617413345078237 11.356884515374375\n",
      "ln_counts_d ln_mkvaltq_d 0.04973864093554183 15.995961850147957\n"
     ]
    }
   ],
   "source": [
    "#replicating analyses for subsets of the dataframe based on job role\n",
    "l_prod = []\n",
    "err_prod = []\n",
    "\n",
    "df_prod = df.loc[df['product_engineering']==1,:].groupby(['conm','year','q'],as_index=False).agg({'counts':sum,\n",
    "    'revtq':np.mean,\n",
    "        'xoprq':np.mean,'mkvaltq':np.mean})\n",
    "df_prod = df_prod.loc[df_prod.duplicated(['conm'],keep=False),:]\n",
    "for i in ['counts','revtq', 'xoprq', 'mkvaltq']:\n",
    "    df_prod[i+'_f1'] = df_prod.groupby('conm')[i].shift(-1)\n",
    "    for j in range(2,5):\n",
    "        df_prod[i+'_f'+str(j)] = df_prod.groupby('conm')[i].shift(-1*j)\n",
    "    df_prod['ln_'+i] = np.log(1+df_prod[i])\n",
    "    df_prod[i+'_g1'] = np.log(1+df_prod[i+'_f1'])-np.log(1+df_prod[i])\n",
    "    for j in range(2,5):\n",
    "        df_prod[i+'_g'+str(j)] = np.log(1+df_prod[i+'_f'+str(j)])-np.log(1+df_prod[i+'_f'+str(j-1)])\n",
    "    df_prod['ln_'+i+'_d'] = df_prod['ln_'+i] - df_prod.groupby(['conm'])['ln_'+i].transform(np.mean)\n",
    "for j in ['ln_counts_d']:\n",
    "    for i in ['ln_xoprq_d','ln_revtq_d','ln_mkvaltq_d']:\n",
    "        l_prod.append(smf.ols(i+'~'+j,data=df_prod).fit().params[j])\n",
    "        err_prod.append(smf.ols(i+'~'+j,data=df_prod).fit().HC0_se[j])\n",
    "        print(j,i,smf.ols(i+'~'+j,data=df_prod).fit().params[j],smf.ols(i+'~'+j,data=df_prod).fit().tvalues[j])\n",
    "\n",
    "l_sales = []\n",
    "err_sales = []\n",
    "\n",
    "df_sales = df.loc[df['sales']==1,:].groupby(['conm','year','q'],as_index=False).agg({'counts':sum,\n",
    "    'revtq':np.mean,\n",
    "        'xoprq':np.mean,'mkvaltq':np.mean})\n",
    "df_sales = df_sales.loc[df_sales.duplicated(['conm'],keep=False),:]\n",
    "for i in ['counts','revtq', 'xoprq', 'mkvaltq']:\n",
    "    df_sales[i+'_f1'] = df_sales.groupby('conm')[i].shift(-1)\n",
    "    for j in range(2,5):\n",
    "        df_sales[i+'_f'+str(j)] = df_sales.groupby('conm')[i].shift(-1*j)\n",
    "    df_sales['ln_'+i] = np.log(1+df_sales[i])\n",
    "    df_sales[i+'_g1'] = np.log(1+df_sales[i+'_f1'])-np.log(1+df_sales[i])\n",
    "    for j in range(2,5):\n",
    "        df_sales[i+'_g'+str(j)] = np.log(1+df_sales[i+'_f'+str(j)])-np.log(1+df_sales[i+'_f'+str(j-1)])\n",
    "    df_sales['ln_'+i+'_d'] = df_sales['ln_'+i] - df_sales.groupby(['conm'])['ln_'+i].transform(np.mean)\n",
    "for j in ['ln_counts_d']:\n",
    "    for i in ['ln_xoprq_d','ln_revtq_d','ln_mkvaltq_d']:\n",
    "        l_sales.append(smf.ols(i+'~'+j,data=df_sales).fit().params[j])\n",
    "        err_sales.append(smf.ols(i+'~'+j,data=df_sales).fit().HC0_se[j])\n",
    "        print(j,i,smf.ols(i+'~'+j,data=df_sales).fit().params[j],smf.ols(i+'~'+j,data=df_sales).fit().tvalues[j])\n",
    "        \n",
    "l_other = []\n",
    "err_other = []\n",
    "\n",
    "df_other = df.loc[(df['product_engineering']==0)&(df['sales']==0),:].groupby(\n",
    "    ['conm','year','q'],as_index=False).agg({'counts':sum,\n",
    "    'revtq':np.mean,\n",
    "        'xoprq':np.mean,'mkvaltq':np.mean})\n",
    "df_other = df_other.loc[df_other.duplicated(['conm'],keep=False),:]\n",
    "for i in ['counts','revtq', 'xoprq', 'mkvaltq']:\n",
    "    df_other[i+'_f1'] = df_other.groupby('conm')[i].shift(-1)\n",
    "    for j in range(2,5):\n",
    "        df_other[i+'_f'+str(j)] = df_other.groupby('conm')[i].shift(-1*j)\n",
    "    df_other['ln_'+i] = np.log(1+df_other[i])\n",
    "    df_other[i+'_g1'] = np.log(1+df_other[i+'_f1'])-np.log(1+df_other[i])\n",
    "    for j in range(2,5):\n",
    "        df_other[i+'_g'+str(j)] = np.log(1+df_other[i+'_f'+str(j)])-np.log(1+df_other[i+'_f'+str(j-1)])\n",
    "    df_other['ln_'+i+'_d'] = df_other['ln_'+i] - df_other.groupby(['conm'])['ln_'+i].transform(np.mean)\n",
    "for j in ['ln_counts_d']:\n",
    "    for i in ['ln_xoprq_d','ln_revtq_d','ln_mkvaltq_d']:\n",
    "        l_other.append(smf.ols(i+'~'+j,data=df_other).fit().params[j])\n",
    "        err_other.append(smf.ols(i+'~'+j,data=df_other).fit().HC0_se[j])\n",
    "        print(j,i,smf.ols(i+'~'+j,data=df_other).fit().params[j],smf.ols(i+'~'+j,data=df_other).fit().tvalues[j])\n",
    "        \n",
    "        \n",
    "        \n",
    "plot4 = pd.DataFrame({'product':l_prod,\n",
    "              'sales':l_sales,\n",
    "              'other':l_other},\n",
    "              index=['Expense','Revenue','Mkt Cap'])"
   ]
  },
  {
   "cell_type": "code",
   "execution_count": 13,
   "metadata": {},
   "outputs": [
    {
     "data": {
      "text/plain": [
       "[Text(0,0,'0%'),\n",
       " Text(0,0,'1%'),\n",
       " Text(0,0,'2%'),\n",
       " Text(0,0,'3%'),\n",
       " Text(0,0,'4%'),\n",
       " Text(0,0,'5%'),\n",
       " Text(0,0,'6%')]"
      ]
     },
     "execution_count": 13,
     "metadata": {},
     "output_type": "execute_result"
    },
    {
     "data": {
      "image/png": "[encoded data removed]",
      "text/plain": [
       "<Figure size 921.6x633.6 with 1 Axes>"
      ]
     },
     "metadata": {},
     "output_type": "display_data"
    }
   ],
   "source": [
    "fig, ax = plt.subplots()\n",
    "plot4.plot.bar(ax=ax,yerr=[err_prod,err_sales,err_other])\n",
    "ax.set_title('Job Posting Volume: Relationships by Job Role')\n",
    "ax.set_ylabel('Elasticity')\n",
    "ax.legend(['Product/Engineering','Sales/Marketing','Other'])\n",
    "\n",
    "vals = ax.get_yticks()\n",
    "ax.set_yticklabels(['{:,.0%}'.format(x) for x in vals])"
   ]
  },
  {
   "cell_type": "code",
   "execution_count": null,
   "metadata": {},
   "outputs": [],
   "source": []
  }
 ],
 "metadata": {
  "kernelspec": {
   "display_name": "Python 3",
   "language": "python",
   "name": "python3"
  },
  "language_info": {
   "codemirror_mode": {
    "name": "ipython",
    "version": 3
   },
   "file_extension": ".py",
   "mimetype": "text/x-python",
   "name": "python",
   "nbconvert_exporter": "python",
   "pygments_lexer": "ipython3",
   "version": "3.6.8"
  }
 },
 "nbformat": 4,
 "nbformat_minor": 2
}
